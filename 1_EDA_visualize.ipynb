{
 "cells": [
  {
   "cell_type": "markdown",
   "metadata": {
    "colab_type": "text",
    "id": "view-in-github"
   },
   "source": [
    "<a href=\"https://colab.research.google.com/github/a-forty-two/EY_batch8_11Nov_AIplusOpenAI/blob/main/11Nov_006_EDA_Visuals.ipynb\" target=\"_parent\"><img src=\"https://colab.research.google.com/assets/colab-badge.svg\" alt=\"Open In Colab\"/></a>"
   ]
  },
  {
   "cell_type": "markdown",
   "metadata": {
    "id": "tjqQ4yEia4nw"
   },
   "source": [
    "# Python for Data Science & Analysis\n",
    "Exploratory Data Analysis & Visualization"
   ]
  },
  {
   "cell_type": "markdown",
   "metadata": {
    "id": "jjxms958aXXw"
   },
   "source": [
    "# What is EDA?"
   ]
  },
  {
   "cell_type": "markdown",
   "metadata": {
    "id": "1_YcrBxlaXXw"
   },
   "source": [
    "## What is Exploratory Data Analysis?"
   ]
  },
  {
   "cell_type": "markdown",
   "metadata": {
    "id": "M_cEraI5aXXx"
   },
   "source": [
    "* goal:\n",
    "    * investigate\n",
    "    * explain\n",
    "    * describe\n",
    "    * understand"
   ]
  },
  {
   "cell_type": "markdown",
   "metadata": {
    "id": "EOy0SRVkaXXx"
   },
   "source": [
    "* questions?\n",
    "    * is there enough data?\n",
    "    * is the data correct?\n",
    "    * what is the distribution of each column?\n",
    "    * how do the columns correlate?"
   ]
  },
  {
   "cell_type": "markdown",
   "metadata": {
    "id": "GyKakVCqaXXy"
   },
   "source": [
    "* method\n",
    "    * visual\n",
    "    * primarily descriptive"
   ]
  },
  {
   "cell_type": "markdown",
   "metadata": {
    "id": "dZhrXwtoaXXy"
   },
   "source": [
    "## What are the tools for EDA in Python?"
   ]
  },
  {
   "cell_type": "markdown",
   "metadata": {
    "id": "qUnKHCmuaXXy"
   },
   "source": [
    "Simple pair: Pandas for data exploration, seaborn for visualization.\n",
    "\n",
    "\n",
    "...but lots of options."
   ]
  },
  {
   "cell_type": "markdown",
   "metadata": {
    "id": "ktmGXel2aXXz"
   },
   "source": [
    "## What are the challenges around EDA?"
   ]
  },
  {
   "cell_type": "markdown",
   "metadata": {
    "id": "HYnGjSdtaXXz"
   },
   "source": [
    "### Challenges of EDA:\n",
    "\n",
    "* Strategic\n",
    "* Organizational\n",
    "* Technical"
   ]
  },
  {
   "cell_type": "markdown",
   "metadata": {
    "id": "ZG7aAK_9a4nz"
   },
   "source": [
    "## Objectives\n",
    "* write a program which uses seaborn to:\n",
    "    * show univariate plots (eg., distplot)\n",
    "    * show multivariate plots (eg., scatterplot)\n",
    "    * EXTRA: customize plots"
   ]
  },
  {
   "cell_type": "markdown",
   "metadata": {
    "id": "Rf9aAP1Ka4n0"
   },
   "source": [
    "# Part 3: Visualization"
   ]
  },
  {
   "cell_type": "markdown",
   "metadata": {
    "id": "cvwTX3E_a4n1"
   },
   "source": [
    "## How do I use pandas to plot?"
   ]
  },
  {
   "cell_type": "markdown",
   "metadata": {
    "id": "jnO-Te_da4n1"
   },
   "source": [
    "Pandas has a `.plot` which you configure using its arguments (eg., `kind=hist`), this however *just uses* seaborn."
   ]
  },
  {
   "cell_type": "code",
   "execution_count": 2,
   "metadata": {
    "id": "HWFBaU_-a4n2",
    "scrolled": true
   },
   "outputs": [
    {
     "data": {
      "text/html": [
       "<div>\n",
       "<style scoped>\n",
       "    .dataframe tbody tr th:only-of-type {\n",
       "        vertical-align: middle;\n",
       "    }\n",
       "\n",
       "    .dataframe tbody tr th {\n",
       "        vertical-align: top;\n",
       "    }\n",
       "\n",
       "    .dataframe thead th {\n",
       "        text-align: right;\n",
       "    }\n",
       "</style>\n",
       "<table border=\"1\" class=\"dataframe\">\n",
       "  <thead>\n",
       "    <tr style=\"text-align: right;\">\n",
       "      <th></th>\n",
       "      <th>Car_Name</th>\n",
       "      <th>Year</th>\n",
       "      <th>Selling_Price</th>\n",
       "      <th>Present_Price</th>\n",
       "      <th>Kms_Driven</th>\n",
       "      <th>Fuel_Type</th>\n",
       "      <th>Seller_Type</th>\n",
       "      <th>Transmission</th>\n",
       "      <th>Owner</th>\n",
       "    </tr>\n",
       "  </thead>\n",
       "  <tbody>\n",
       "    <tr>\n",
       "      <th>67</th>\n",
       "      <td>fortuner</td>\n",
       "      <td>2010</td>\n",
       "      <td>9.25</td>\n",
       "      <td>20.45</td>\n",
       "      <td>59000</td>\n",
       "      <td>Diesel</td>\n",
       "      <td>Dealer</td>\n",
       "      <td>Manual</td>\n",
       "      <td>0</td>\n",
       "    </tr>\n",
       "    <tr>\n",
       "      <th>71</th>\n",
       "      <td>corolla altis</td>\n",
       "      <td>2011</td>\n",
       "      <td>4.50</td>\n",
       "      <td>12.48</td>\n",
       "      <td>45000</td>\n",
       "      <td>Diesel</td>\n",
       "      <td>Dealer</td>\n",
       "      <td>Manual</td>\n",
       "      <td>0</td>\n",
       "    </tr>\n",
       "  </tbody>\n",
       "</table>\n",
       "</div>"
      ],
      "text/plain": [
       "         Car_Name  Year  Selling_Price  Present_Price  Kms_Driven Fuel_Type  \\\n",
       "67       fortuner  2010           9.25          20.45       59000    Diesel   \n",
       "71  corolla altis  2011           4.50          12.48       45000    Diesel   \n",
       "\n",
       "   Seller_Type Transmission  Owner  \n",
       "67      Dealer       Manual      0  \n",
       "71      Dealer       Manual      0  "
      ]
     },
     "execution_count": 2,
     "metadata": {},
     "output_type": "execute_result"
    }
   ],
   "source": [
    "import pandas as pd\n",
    "import numpy as np\n",
    "\n",
    "data = pd.read_csv('car data.csv')\n",
    "data.sample(2)\n",
    "\n",
    "# did not find any missing values.\n",
    "# have torque in nm at rpm.\n",
    "# engine having 1197 with CC unit text.\n",
    "# max_power with bhp unit text.\n",
    "# max_torque with nm unit text.\n",
    "# we can also see petrol, diesel, cng, lpg in fuel_type."
   ]
  },
  {
   "cell_type": "markdown",
   "metadata": {
    "id": "-orraZrSfuqP"
   },
   "source": []
  },
  {
   "cell_type": "code",
   "execution_count": 3,
   "metadata": {
    "id": "KqJBJYqqf1pW"
   },
   "outputs": [
    {
     "data": {
      "text/html": [
       "<div>\n",
       "<style scoped>\n",
       "    .dataframe tbody tr th:only-of-type {\n",
       "        vertical-align: middle;\n",
       "    }\n",
       "\n",
       "    .dataframe tbody tr th {\n",
       "        vertical-align: top;\n",
       "    }\n",
       "\n",
       "    .dataframe thead th {\n",
       "        text-align: right;\n",
       "    }\n",
       "</style>\n",
       "<table border=\"1\" class=\"dataframe\">\n",
       "  <thead>\n",
       "    <tr style=\"text-align: right;\">\n",
       "      <th></th>\n",
       "      <th>count</th>\n",
       "      <th>mean</th>\n",
       "      <th>std</th>\n",
       "      <th>min</th>\n",
       "      <th>25%</th>\n",
       "      <th>50%</th>\n",
       "      <th>75%</th>\n",
       "      <th>max</th>\n",
       "    </tr>\n",
       "  </thead>\n",
       "  <tbody>\n",
       "    <tr>\n",
       "      <th>Year</th>\n",
       "      <td>301.0</td>\n",
       "      <td>2013.627907</td>\n",
       "      <td>2.891554</td>\n",
       "      <td>2003.00</td>\n",
       "      <td>2012.0</td>\n",
       "      <td>2014.0</td>\n",
       "      <td>2016.0</td>\n",
       "      <td>2018.0</td>\n",
       "    </tr>\n",
       "    <tr>\n",
       "      <th>Selling_Price</th>\n",
       "      <td>301.0</td>\n",
       "      <td>4.661296</td>\n",
       "      <td>5.082812</td>\n",
       "      <td>0.10</td>\n",
       "      <td>0.9</td>\n",
       "      <td>3.6</td>\n",
       "      <td>6.0</td>\n",
       "      <td>35.0</td>\n",
       "    </tr>\n",
       "    <tr>\n",
       "      <th>Present_Price</th>\n",
       "      <td>301.0</td>\n",
       "      <td>7.628472</td>\n",
       "      <td>8.644115</td>\n",
       "      <td>0.32</td>\n",
       "      <td>1.2</td>\n",
       "      <td>6.4</td>\n",
       "      <td>9.9</td>\n",
       "      <td>92.6</td>\n",
       "    </tr>\n",
       "    <tr>\n",
       "      <th>Kms_Driven</th>\n",
       "      <td>301.0</td>\n",
       "      <td>36947.205980</td>\n",
       "      <td>38886.883882</td>\n",
       "      <td>500.00</td>\n",
       "      <td>15000.0</td>\n",
       "      <td>32000.0</td>\n",
       "      <td>48767.0</td>\n",
       "      <td>500000.0</td>\n",
       "    </tr>\n",
       "    <tr>\n",
       "      <th>Owner</th>\n",
       "      <td>301.0</td>\n",
       "      <td>0.043189</td>\n",
       "      <td>0.247915</td>\n",
       "      <td>0.00</td>\n",
       "      <td>0.0</td>\n",
       "      <td>0.0</td>\n",
       "      <td>0.0</td>\n",
       "      <td>3.0</td>\n",
       "    </tr>\n",
       "  </tbody>\n",
       "</table>\n",
       "</div>"
      ],
      "text/plain": [
       "               count          mean           std      min      25%      50%  \\\n",
       "Year           301.0   2013.627907      2.891554  2003.00   2012.0   2014.0   \n",
       "Selling_Price  301.0      4.661296      5.082812     0.10      0.9      3.6   \n",
       "Present_Price  301.0      7.628472      8.644115     0.32      1.2      6.4   \n",
       "Kms_Driven     301.0  36947.205980  38886.883882   500.00  15000.0  32000.0   \n",
       "Owner          301.0      0.043189      0.247915     0.00      0.0      0.0   \n",
       "\n",
       "                   75%       max  \n",
       "Year            2016.0    2018.0  \n",
       "Selling_Price      6.0      35.0  \n",
       "Present_Price      9.9      92.6  \n",
       "Kms_Driven     48767.0  500000.0  \n",
       "Owner              0.0       3.0  "
      ]
     },
     "execution_count": 3,
     "metadata": {},
     "output_type": "execute_result"
    }
   ],
   "source": [
    "data.describe().T"
   ]
  },
  {
   "cell_type": "code",
   "execution_count": 4,
   "metadata": {
    "id": "BU8e1iHFgEqA"
   },
   "outputs": [
    {
     "name": "stdout",
     "output_type": "stream",
     "text": [
      "<class 'pandas.core.frame.DataFrame'>\n",
      "RangeIndex: 301 entries, 0 to 300\n",
      "Data columns (total 9 columns):\n",
      " #   Column         Non-Null Count  Dtype  \n",
      "---  ------         --------------  -----  \n",
      " 0   Car_Name       301 non-null    object \n",
      " 1   Year           301 non-null    int64  \n",
      " 2   Selling_Price  301 non-null    float64\n",
      " 3   Present_Price  301 non-null    float64\n",
      " 4   Kms_Driven     301 non-null    int64  \n",
      " 5   Fuel_Type      301 non-null    object \n",
      " 6   Seller_Type    301 non-null    object \n",
      " 7   Transmission   301 non-null    object \n",
      " 8   Owner          301 non-null    int64  \n",
      "dtypes: float64(2), int64(3), object(4)\n",
      "memory usage: 21.3+ KB\n"
     ]
    }
   ],
   "source": [
    "data.info()"
   ]
  },
  {
   "cell_type": "markdown",
   "metadata": {
    "id": "p5ODg-p1hlSf"
   },
   "source": [
    "#Create a pie chart presenting the male/female proportion"
   ]
  },
  {
   "cell_type": "code",
   "execution_count": 5,
   "metadata": {},
   "outputs": [
    {
     "data": {
      "text/plain": [
       "Index(['Car_Name', 'Year', 'Selling_Price', 'Present_Price', 'Kms_Driven',\n",
       "       'Fuel_Type', 'Seller_Type', 'Transmission', 'Owner'],\n",
       "      dtype='object')"
      ]
     },
     "execution_count": 5,
     "metadata": {},
     "output_type": "execute_result"
    }
   ],
   "source": [
    "\n",
    "data.columns\n"
   ]
  },
  {
   "cell_type": "code",
   "execution_count": 6,
   "metadata": {},
   "outputs": [],
   "source": [
    "import matplotlib.pyplot as plt\n",
    "%matplotlib inline"
   ]
  },
  {
   "cell_type": "code",
   "execution_count": 7,
   "metadata": {},
   "outputs": [
    {
     "name": "stderr",
     "output_type": "stream",
     "text": [
      "C:\\Users\\Krishna.Kompella\\AppData\\Local\\Temp\\ipykernel_19788\\550285355.py:3: FutureWarning: Downcasting behavior in `replace` is deprecated and will be removed in a future version. To retain the old behavior, explicitly call `result.infer_objects(copy=False)`. To opt-in to the future behavior, set `pd.set_option('future.no_silent_downcasting', True)`\n",
      "  data.replace({\"Fuel_Type\":{\"Petrol\":0,\"Diesel\":1,\"CNG\":2}},inplace =True)\n",
      "C:\\Users\\Krishna.Kompella\\AppData\\Local\\Temp\\ipykernel_19788\\550285355.py:4: FutureWarning: Downcasting behavior in `replace` is deprecated and will be removed in a future version. To retain the old behavior, explicitly call `result.infer_objects(copy=False)`. To opt-in to the future behavior, set `pd.set_option('future.no_silent_downcasting', True)`\n",
      "  data.replace({\"Seller_Type\":{\"Dealer\":0,\"Individual\":1}},inplace =True)\n",
      "C:\\Users\\Krishna.Kompella\\AppData\\Local\\Temp\\ipykernel_19788\\550285355.py:5: FutureWarning: Downcasting behavior in `replace` is deprecated and will be removed in a future version. To retain the old behavior, explicitly call `result.infer_objects(copy=False)`. To opt-in to the future behavior, set `pd.set_option('future.no_silent_downcasting', True)`\n",
      "  data.replace({\"Transmission\":{\"Manual\":0,\"Automatic\":1}},inplace =True)\n"
     ]
    },
    {
     "data": {
      "text/plain": [
       "<Axes: >"
      ]
     },
     "execution_count": 7,
     "metadata": {},
     "output_type": "execute_result"
    },
    {
     "data": {
      "image/png": "[encoded data removed]",
      "text/plain": [
       "<Figure size 640x480 with 2 Axes>"
      ]
     },
     "metadata": {},
     "output_type": "display_data"
    }
   ],
   "source": [
    "import seaborn as sns\n",
    "\n",
    "data.replace({\"Fuel_Type\":{\"Petrol\":0,\"Diesel\":1,\"CNG\":2}},inplace =True)\n",
    "data.replace({\"Seller_Type\":{\"Dealer\":0,\"Individual\":1}},inplace =True)\n",
    "data.replace({\"Transmission\":{\"Manual\":0,\"Automatic\":1}},inplace =True)\n",
    "data['id'] = data['Car_Name'].factorize()[0]\n",
    "\n",
    "input_cols = ['id','Year', 'Selling_Price', 'Present_Price', 'Kms_Driven',\"Fuel_Type\",\"Seller_Type\",\"Transmission\",\n",
    "        'Owner']\n",
    "considered_data = data.loc[ :, input_cols]\n",
    "sns.heatmap(considered_data.corr(), cmap='coolwarm')\n",
    "\n",
    "# we can see that Present_Price and Selling_Price are highly correlated."
   ]
  },
  {
   "cell_type": "code",
   "execution_count": 8,
   "metadata": {},
   "outputs": [],
   "source": [
    "Y = data['Selling_Price']\n",
    "X = data.iloc[:, 1:]\n",
    "# ['Car_Name', 'Year', 'Selling_Price', 'Present_Price', 'Kms_Driven',\n",
    "#        'Fuel_Type', 'Seller_Type', 'Transmission', 'Owner']"
   ]
  },
  {
   "cell_type": "code",
   "execution_count": 9,
   "metadata": {},
   "outputs": [
    {
     "data": {
      "text/html": [
       "<div>\n",
       "<style scoped>\n",
       "    .dataframe tbody tr th:only-of-type {\n",
       "        vertical-align: middle;\n",
       "    }\n",
       "\n",
       "    .dataframe tbody tr th {\n",
       "        vertical-align: top;\n",
       "    }\n",
       "\n",
       "    .dataframe thead th {\n",
       "        text-align: right;\n",
       "    }\n",
       "</style>\n",
       "<table border=\"1\" class=\"dataframe\">\n",
       "  <thead>\n",
       "    <tr style=\"text-align: right;\">\n",
       "      <th></th>\n",
       "      <th>Year</th>\n",
       "      <th>Selling_Price</th>\n",
       "      <th>Present_Price</th>\n",
       "      <th>Kms_Driven</th>\n",
       "      <th>Fuel_Type</th>\n",
       "      <th>Seller_Type</th>\n",
       "      <th>Transmission</th>\n",
       "      <th>Owner</th>\n",
       "      <th>id</th>\n",
       "    </tr>\n",
       "  </thead>\n",
       "  <tbody>\n",
       "    <tr>\n",
       "      <th>0</th>\n",
       "      <td>2014</td>\n",
       "      <td>3.35</td>\n",
       "      <td>5.59</td>\n",
       "      <td>27000</td>\n",
       "      <td>0</td>\n",
       "      <td>0</td>\n",
       "      <td>0</td>\n",
       "      <td>0</td>\n",
       "      <td>0</td>\n",
       "    </tr>\n",
       "    <tr>\n",
       "      <th>1</th>\n",
       "      <td>2013</td>\n",
       "      <td>4.75</td>\n",
       "      <td>9.54</td>\n",
       "      <td>43000</td>\n",
       "      <td>1</td>\n",
       "      <td>0</td>\n",
       "      <td>0</td>\n",
       "      <td>0</td>\n",
       "      <td>1</td>\n",
       "    </tr>\n",
       "    <tr>\n",
       "      <th>2</th>\n",
       "      <td>2017</td>\n",
       "      <td>7.25</td>\n",
       "      <td>9.85</td>\n",
       "      <td>6900</td>\n",
       "      <td>0</td>\n",
       "      <td>0</td>\n",
       "      <td>0</td>\n",
       "      <td>0</td>\n",
       "      <td>2</td>\n",
       "    </tr>\n",
       "    <tr>\n",
       "      <th>3</th>\n",
       "      <td>2011</td>\n",
       "      <td>2.85</td>\n",
       "      <td>4.15</td>\n",
       "      <td>5200</td>\n",
       "      <td>0</td>\n",
       "      <td>0</td>\n",
       "      <td>0</td>\n",
       "      <td>0</td>\n",
       "      <td>3</td>\n",
       "    </tr>\n",
       "    <tr>\n",
       "      <th>4</th>\n",
       "      <td>2014</td>\n",
       "      <td>4.60</td>\n",
       "      <td>6.87</td>\n",
       "      <td>42450</td>\n",
       "      <td>1</td>\n",
       "      <td>0</td>\n",
       "      <td>0</td>\n",
       "      <td>0</td>\n",
       "      <td>4</td>\n",
       "    </tr>\n",
       "  </tbody>\n",
       "</table>\n",
       "</div>"
      ],
      "text/plain": [
       "   Year  Selling_Price  Present_Price  Kms_Driven  Fuel_Type  Seller_Type  \\\n",
       "0  2014           3.35           5.59       27000          0            0   \n",
       "1  2013           4.75           9.54       43000          1            0   \n",
       "2  2017           7.25           9.85        6900          0            0   \n",
       "3  2011           2.85           4.15        5200          0            0   \n",
       "4  2014           4.60           6.87       42450          1            0   \n",
       "\n",
       "   Transmission  Owner  id  \n",
       "0             0      0   0  \n",
       "1             0      0   1  \n",
       "2             0      0   2  \n",
       "3             0      0   3  \n",
       "4             0      0   4  "
      ]
     },
     "execution_count": 9,
     "metadata": {},
     "output_type": "execute_result"
    }
   ],
   "source": [
    "X.head()"
   ]
  },
  {
   "cell_type": "code",
   "execution_count": 11,
   "metadata": {},
   "outputs": [
    {
     "ename": "ModuleNotFoundError",
     "evalue": "No module named 'sklearn'",
     "output_type": "error",
     "traceback": [
      "\u001b[1;31m---------------------------------------------------------------------------\u001b[0m",
      "\u001b[1;31mModuleNotFoundError\u001b[0m                       Traceback (most recent call last)",
      "Cell \u001b[1;32mIn[11], line 1\u001b[0m\n\u001b[1;32m----> 1\u001b[0m \u001b[38;5;28;01mfrom\u001b[39;00m \u001b[38;5;21;01msklearn\u001b[39;00m\u001b[38;5;21;01m.\u001b[39;00m\u001b[38;5;21;01mmodel_selection\u001b[39;00m \u001b[38;5;28;01mimport\u001b[39;00m train_test_split\n",
      "\u001b[1;31mModuleNotFoundError\u001b[0m: No module named 'sklearn'"
     ]
    }
   ],
   "source": [
    "from sklearn.model_selection import train_test_split"
   ]
  },
  {
   "cell_type": "code",
   "execution_count": null,
   "metadata": {},
   "outputs": [
    {
     "ename": "ModuleNotFoundError",
     "evalue": "No module named 'sklearn'",
     "output_type": "error",
     "traceback": [
      "\u001b[1;31m---------------------------------------------------------------------------\u001b[0m",
      "\u001b[1;31mModuleNotFoundError\u001b[0m                       Traceback (most recent call last)",
      "Cell \u001b[1;32mIn[10], line 1\u001b[0m\n\u001b[1;32m----> 1\u001b[0m \u001b[38;5;28;01mfrom\u001b[39;00m \u001b[38;5;21;01msklearn\u001b[39;00m\u001b[38;5;21;01m.\u001b[39;00m\u001b[38;5;21;01mmodel_selection\u001b[39;00m \u001b[38;5;28;01mimport\u001b[39;00m train_test_split\n\u001b[0;32m      2\u001b[0m xtrain, xtest, ytrain, ytest \u001b[38;5;241m=\u001b[39m train_test_split(X, Y, test_size\u001b[38;5;241m=\u001b[39m\u001b[38;5;241m0.2\u001b[39m)\n",
      "\u001b[1;31mModuleNotFoundError\u001b[0m: No module named 'sklearn'"
     ]
    }
   ],
   "source": [
    "\n",
    "xtrain, xtest, ytrain, ytest = train_test_split(X, Y, test_size=0.2)"
   ]
  },
  {
   "cell_type": "code",
   "execution_count": 35,
   "metadata": {
    "id": "7cr5v8r6a4n5"
   },
   "outputs": [
    {
     "data": {
      "text/html": [
       "<div>\n",
       "<style scoped>\n",
       "    .dataframe tbody tr th:only-of-type {\n",
       "        vertical-align: middle;\n",
       "    }\n",
       "\n",
       "    .dataframe tbody tr th {\n",
       "        vertical-align: top;\n",
       "    }\n",
       "\n",
       "    .dataframe thead th {\n",
       "        text-align: right;\n",
       "    }\n",
       "</style>\n",
       "<table border=\"1\" class=\"dataframe\">\n",
       "  <thead>\n",
       "    <tr style=\"text-align: right;\">\n",
       "      <th></th>\n",
       "      <th>Year</th>\n",
       "      <th>Selling_Price</th>\n",
       "      <th>Present_Price</th>\n",
       "      <th>Kms_Driven</th>\n",
       "      <th>Fuel_Type</th>\n",
       "      <th>Seller_Type</th>\n",
       "      <th>Transmission</th>\n",
       "      <th>Owner</th>\n",
       "      <th>id</th>\n",
       "    </tr>\n",
       "  </thead>\n",
       "  <tbody>\n",
       "    <tr>\n",
       "      <th>0</th>\n",
       "      <td>2014</td>\n",
       "      <td>3.35</td>\n",
       "      <td>5.59</td>\n",
       "      <td>27000</td>\n",
       "      <td>0</td>\n",
       "      <td>0</td>\n",
       "      <td>0</td>\n",
       "      <td>0</td>\n",
       "      <td>0</td>\n",
       "    </tr>\n",
       "    <tr>\n",
       "      <th>1</th>\n",
       "      <td>2013</td>\n",
       "      <td>4.75</td>\n",
       "      <td>9.54</td>\n",
       "      <td>43000</td>\n",
       "      <td>1</td>\n",
       "      <td>0</td>\n",
       "      <td>0</td>\n",
       "      <td>0</td>\n",
       "      <td>1</td>\n",
       "    </tr>\n",
       "    <tr>\n",
       "      <th>2</th>\n",
       "      <td>2017</td>\n",
       "      <td>7.25</td>\n",
       "      <td>9.85</td>\n",
       "      <td>6900</td>\n",
       "      <td>0</td>\n",
       "      <td>0</td>\n",
       "      <td>0</td>\n",
       "      <td>0</td>\n",
       "      <td>2</td>\n",
       "    </tr>\n",
       "    <tr>\n",
       "      <th>3</th>\n",
       "      <td>2011</td>\n",
       "      <td>2.85</td>\n",
       "      <td>4.15</td>\n",
       "      <td>5200</td>\n",
       "      <td>0</td>\n",
       "      <td>0</td>\n",
       "      <td>0</td>\n",
       "      <td>0</td>\n",
       "      <td>3</td>\n",
       "    </tr>\n",
       "    <tr>\n",
       "      <th>4</th>\n",
       "      <td>2014</td>\n",
       "      <td>4.60</td>\n",
       "      <td>6.87</td>\n",
       "      <td>42450</td>\n",
       "      <td>1</td>\n",
       "      <td>0</td>\n",
       "      <td>0</td>\n",
       "      <td>0</td>\n",
       "      <td>4</td>\n",
       "    </tr>\n",
       "  </tbody>\n",
       "</table>\n",
       "</div>"
      ],
      "text/plain": [
       "   Year  Selling_Price  Present_Price  Kms_Driven  Fuel_Type  Seller_Type  \\\n",
       "0  2014           3.35           5.59       27000          0            0   \n",
       "1  2013           4.75           9.54       43000          1            0   \n",
       "2  2017           7.25           9.85        6900          0            0   \n",
       "3  2011           2.85           4.15        5200          0            0   \n",
       "4  2014           4.60           6.87       42450          1            0   \n",
       "\n",
       "   Transmission  Owner  id  \n",
       "0             0      0   0  \n",
       "1             0      0   1  \n",
       "2             0      0   2  \n",
       "3             0      0   3  \n",
       "4             0      0   4  "
      ]
     },
     "execution_count": 35,
     "metadata": {},
     "output_type": "execute_result"
    }
   ],
   "source": [
    "X.head()\n",
    "\n"
   ]
  },
  {
   "cell_type": "markdown",
   "metadata": {
    "id": "Ep_Tbahja4n6"
   },
   "source": [
    "Often pandas doesn't choose the right plot, or the right dataseries... therefore it's often easier to go straight to using seaborn."
   ]
  },
  {
   "cell_type": "markdown",
   "metadata": {
    "id": "FcOP0m9Aa4n7"
   },
   "source": [
    "## How do I use seaborn to visualize data?"
   ]
  },
  {
   "cell_type": "code",
   "execution_count": null,
   "metadata": {
    "id": "K7YlJH0va4n7"
   },
   "outputs": [],
   "source": []
  },
  {
   "cell_type": "markdown",
   "metadata": {
    "id": "mRh0losAa4n8"
   },
   "source": [
    "### Checks for emptiness and cleanse data"
   ]
  },
  {
   "cell_type": "code",
   "execution_count": null,
   "metadata": {
    "id": "4rDphsOTa4n8"
   },
   "outputs": [],
   "source": [
    "ti.isna().sum() #check for emptiness"
   ]
  },
  {
   "cell_type": "code",
   "execution_count": null,
   "metadata": {
    "id": "L-bhdUQsa4n8"
   },
   "outputs": [],
   "source": [
    "#replace NaNs in numerical fields with the mean values\n",
    "import numpy as np\n",
    "# Select only numeric columns for mean calculation\n",
    "numeric_cols = ti.select_dtypes(include=np.number).columns\n",
    "\n",
    "# Calculate the mean for numeric columns only\n",
    "ti[numeric_cols] = ti[numeric_cols].fillna(ti[numeric_cols].mean())"
   ]
  },
  {
   "cell_type": "code",
   "execution_count": null,
   "metadata": {
    "id": "WY5oln99a4n9"
   },
   "outputs": [],
   "source": [
    "# fill every column with its own most frequent value\n",
    "ti = ti.apply(lambda x:x.fillna(x.value_counts().index[0]))"
   ]
  },
  {
   "cell_type": "markdown",
   "metadata": {
    "id": "NyrQF5cea4n9"
   },
   "source": [
    "There are two ways of using seaborn, you can either\n",
    "\n",
    "* supply x (, y, etc.) as individual arguments\n",
    "* OR: supply a *dataframe* and name the relevant columns"
   ]
  },
  {
   "cell_type": "code",
   "execution_count": null,
   "metadata": {
    "id": "_BaSuBnka4n9"
   },
   "outputs": [],
   "source": [
    "sns.distplot(ti['age'], kde=False);\n"
   ]
  },
  {
   "cell_type": "markdown",
   "metadata": {
    "id": "1rP64lora4n-"
   },
   "source": [
    "##### What is the kde?\n",
    "\n",
    "* approximation of the distribution using a linear combination of normal distributions\n",
    "\n",
    "* further reading: https://seaborn.pydata.org/tutorial/distributions.html#kernel-density-estimation"
   ]
  },
  {
   "cell_type": "code",
   "execution_count": null,
   "metadata": {
    "id": "MiTkMT2Ta4n-"
   },
   "outputs": [],
   "source": [
    "sns.lineplot(x='age', y='fare', data=ti)"
   ]
  },
  {
   "cell_type": "markdown",
   "metadata": {
    "id": "FdFV-pHHa4n-"
   },
   "source": [
    "## How do I use a dataframe with seaborn?"
   ]
  },
  {
   "cell_type": "markdown",
   "metadata": {
    "id": "Ez2zl-E8a4n-"
   },
   "source": [
    "We set `data` to be the dataframe, and *name the columns* for `x` and `y`..."
   ]
  },
  {
   "cell_type": "code",
   "execution_count": null,
   "metadata": {
    "id": "GiqI36DLa4n_"
   },
   "outputs": [],
   "source": [
    "sns.scatterplot(data=ti, x='age', y='fare')\n"
   ]
  },
  {
   "cell_type": "markdown",
   "metadata": {
    "id": "-5o9zuOOa4n_"
   },
   "source": [
    "## How do I create a distribution plot?"
   ]
  },
  {
   "cell_type": "code",
   "execution_count": null,
   "metadata": {
    "id": "cjOWI5AVa4n_"
   },
   "outputs": [],
   "source": [
    "sns.distplot(ti['survived'], vertical=True, kde=False)\n"
   ]
  },
  {
   "cell_type": "markdown",
   "metadata": {
    "id": "l5wAfNG6a4oA"
   },
   "source": [
    "## How do I create a violin plot?"
   ]
  },
  {
   "cell_type": "markdown",
   "metadata": {
    "id": "MsXGbv2za4oA"
   },
   "source": [
    "The width of a violin plot is the frequency (ie., how common) a value is within some column..."
   ]
  },
  {
   "cell_type": "code",
   "execution_count": null,
   "metadata": {
    "id": "pUFj6RWba4oB"
   },
   "outputs": [],
   "source": [
    "sns.violinplot(ti['age'])\n"
   ]
  },
  {
   "cell_type": "markdown",
   "metadata": {
    "id": "XkrR-Wssa4oB"
   },
   "source": [
    "## How do I create a box plot?"
   ]
  },
  {
   "cell_type": "markdown",
   "metadata": {
    "id": "Rp3fFuLSa4oB"
   },
   "source": [
    "Box plots show quarties (25th, 50th, 75th) and outliers."
   ]
  },
  {
   "cell_type": "code",
   "execution_count": null,
   "metadata": {
    "id": "0sGQy6Yka4oB"
   },
   "outputs": [],
   "source": [
    "sns.boxplot(ti['age'])\n"
   ]
  },
  {
   "cell_type": "markdown",
   "metadata": {
    "id": "LmMEi9Cka4oB"
   },
   "source": [
    "## How do I create a violin plot for multiple columns?"
   ]
  },
  {
   "cell_type": "markdown",
   "metadata": {
    "id": "BPfrAVf9a4oC"
   },
   "source": [
    "A violin plot can show multiple distributions, each a subset of a single column, factored (or grouped) by another."
   ]
  },
  {
   "cell_type": "code",
   "execution_count": null,
   "metadata": {
    "id": "l7jRSv8Na4oC"
   },
   "outputs": [],
   "source": [
    "sns.violinplot(data=ti, x='survived', y='age')\n"
   ]
  },
  {
   "cell_type": "code",
   "execution_count": null,
   "metadata": {
    "id": "KlPqhmIHa4oC"
   },
   "outputs": [],
   "source": [
    "sns.violinplot(data=ti, x=\"age\", y='embark_town')"
   ]
  },
  {
   "cell_type": "markdown",
   "metadata": {
    "id": "SXrB60TMa4oD"
   },
   "source": [
    "## How do I create a bar plor for multiple columns?"
   ]
  },
  {
   "cell_type": "markdown",
   "metadata": {
    "id": "u-2DZeZFa4oD"
   },
   "source": [
    "Bar plots are useful for discrete data or for showing, here, the means:"
   ]
  },
  {
   "cell_type": "code",
   "execution_count": null,
   "metadata": {
    "id": "wD1TgojBa4oD"
   },
   "outputs": [],
   "source": [
    "sns.barplot(data=ti, x='survived', y='age');\n"
   ]
  },
  {
   "cell_type": "markdown",
   "metadata": {
    "id": "mpNfz_gOa4oD"
   },
   "source": [
    "## How do I create a line plot?"
   ]
  },
  {
   "cell_type": "code",
   "execution_count": null,
   "metadata": {
    "id": "TODgi4oZa4oD"
   },
   "outputs": [],
   "source": [
    "sns.lineplot(data=ti, x='fare', y='age');\n"
   ]
  },
  {
   "cell_type": "markdown",
   "metadata": {
    "id": "zojWEibaa4oE"
   },
   "source": [
    "###### NB: would creating a scatter plot be more appropriate?"
   ]
  },
  {
   "cell_type": "markdown",
   "metadata": {
    "id": "JENyYDIBa4oE"
   },
   "source": [
    "## How do I create a scatter plot?"
   ]
  },
  {
   "cell_type": "code",
   "execution_count": null,
   "metadata": {
    "id": "J9AFeAk2a4oE"
   },
   "outputs": [],
   "source": [
    "sns.scatterplot(data=ti, x='fare', y='age');\n"
   ]
  },
  {
   "cell_type": "code",
   "execution_count": null,
   "metadata": {
    "id": "rKdUBQrJa4oF"
   },
   "outputs": [],
   "source": [
    "sns.scatterplot(data=ti, x='fare', y='age',\n",
    "                hue = 'sex',\n",
    "                size = 'pclass');"
   ]
  },
  {
   "cell_type": "markdown",
   "metadata": {
    "id": "4SDKxl4Oa4oF"
   },
   "source": [
    "### EXTRA: Tips\n",
    "* Often for the sake of communication, using excel is both faster and leads to better visuals\n",
    "* use `df.to_csv()` to save the data behind a visual\n",
    "* use excel to heavily customize the layout (and then, eg., copy powerpoint)"
   ]
  },
  {
   "cell_type": "code",
   "execution_count": null,
   "metadata": {
    "id": "2lvFR5zscdtb"
   },
   "outputs": [],
   "source": []
  },
  {
   "cell_type": "markdown",
   "metadata": {
    "id": "F-xs6U7TbP5w"
   },
   "source": [
    "# Python for Data Science & Analysis\n",
    "## Plotly"
   ]
  },
  {
   "cell_type": "markdown",
   "metadata": {
    "id": "gvma7akqbP5y"
   },
   "source": [
    "## How do you install plotly?"
   ]
  },
  {
   "cell_type": "markdown",
   "metadata": {
    "id": "Sv1MIXdKbP5z"
   },
   "source": [
    "You can install plotly with `pip` (python package installer)."
   ]
  },
  {
   "cell_type": "code",
   "execution_count": null,
   "metadata": {
    "id": "hCHzoxOabP5z"
   },
   "outputs": [],
   "source": [
    "!pip install plotly\n"
   ]
  },
  {
   "cell_type": "markdown",
   "metadata": {
    "id": "ZMckRnvmbP51"
   },
   "source": [
    "## How do I import plotly?"
   ]
  },
  {
   "cell_type": "code",
   "execution_count": null,
   "metadata": {
    "id": "uNpB1DQ2bP51"
   },
   "outputs": [],
   "source": [
    "import plotly.express as px\n"
   ]
  },
  {
   "cell_type": "markdown",
   "metadata": {
    "id": "tmLMBSlPbP52"
   },
   "source": [
    "## Plotly"
   ]
  },
  {
   "cell_type": "code",
   "execution_count": null,
   "metadata": {
    "id": "5ziNHzxhbP52"
   },
   "outputs": [],
   "source": [
    "import pandas as pd\n",
    "\n",
    "ti = pd.read_csv(\"https://raw.githubusercontent.com/a-forty-two/EY_batch8_11Nov_AIplusOpenAI/refs/heads/main/titanic.csv\")"
   ]
  },
  {
   "cell_type": "code",
   "execution_count": null,
   "metadata": {
    "id": "aG_AOO9mbP53"
   },
   "outputs": [],
   "source": [
    "px.histogram(ti, x='age')"
   ]
  },
  {
   "cell_type": "code",
   "execution_count": null,
   "metadata": {
    "id": "Cg0BvlbpbP53"
   },
   "outputs": [],
   "source": [
    "px.scatter(ti, x='age', y='survived', color='class', size='fare')"
   ]
  },
  {
   "cell_type": "markdown",
   "metadata": {
    "id": "qxOUg7f0a4oF"
   },
   "source": [
    "## Exercise (30 min)- optional\n",
    "\n",
    "## Step 1 (5 min)\n",
    "* review seaborn individual, try a few plots"
   ]
  },
  {
   "cell_type": "markdown",
   "metadata": {
    "id": "qClgelAca4oF"
   },
   "source": [
    "## Step 2 (25 min)\n",
    "\n",
    "* What affected your chances of survival on the titanic?\n",
    "    * brainstorm & execute an analysis of the titanic dataset\n",
    "* Consider:\n",
    "    * old vs. young\n",
    "    * women vs. men\n",
    "    * women & children vs. men\n",
    "    * cheaper vs. expensive tickets\n",
    "    * deck\n",
    "    * class\n",
    "    * ...location...\n",
    "* Use seaborn plots (and pandas) to obtain helpful visuals which answer the investigatory question."
   ]
  },
  {
   "cell_type": "markdown",
   "metadata": {
    "id": "aECQzcWZa4oG"
   },
   "source": [
    "### Consider:\n",
    "* Univariate (single-col) plots\n",
    "    * sns.distplot\n",
    "        * of survived\n",
    "    * sns.violinplot\n",
    "        * of fare\n",
    "    * sns.boxplot\n",
    "        * of age"
   ]
  },
  {
   "cell_type": "markdown",
   "metadata": {
    "id": "4xVsSQSZa4oG"
   },
   "source": [
    "* Multivariate (here: 2-col) plots\n",
    "    * sns.violinplot\n",
    "        * age by survived\n",
    "        * fare by survived\n",
    "    * sns.lineplot\n",
    "        * fare vs. age\n",
    "    * sns.scatterplot\n",
    "        * age vs. fare"
   ]
  },
  {
   "cell_type": "markdown",
   "metadata": {
    "id": "t1z54gMya4oG"
   },
   "source": [
    "ti[[\"age\",\"sex\"]].groupby(ti.age>18).sum()"
   ]
  },
  {
   "cell_type": "code",
   "execution_count": null,
   "metadata": {
    "id": "TYsxDhq9a4oG"
   },
   "outputs": [],
   "source": []
  }
 ],
 "metadata": {
  "celltoolbar": "Slideshow",
  "colab": {
   "include_colab_link": true,
   "provenance": []
  },
  "kernelspec": {
   "display_name": "Python 3",
   "language": "python",
   "name": "python3"
  },
  "language_info": {
   "codemirror_mode": {
    "name": "ipython",
    "version": 3
   },
   "file_extension": ".py",
   "mimetype": "text/x-python",
   "name": "python",
   "nbconvert_exporter": "python",
   "pygments_lexer": "ipython3",
   "version": "3.12.3"
  }
 },
 "nbformat": 4,
 "nbformat_minor": 0
}
