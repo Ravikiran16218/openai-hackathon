{
  "cells": [
    {
      "cell_type": "markdown",
      "metadata": {
        "colab_type": "text",
        "id": "view-in-github"
      },
      "source": [
        "<a href=\"https://colab.research.google.com/github/Ravikiran16218/openai-hackathon-Group3/blob/main/1_EDA_visualize.ipynb\" target=\"_parent\"><img src=\"https://colab.research.google.com/assets/colab-badge.svg\" alt=\"Open In Colab\"/></a>"
      ]
    },
    {
      "cell_type": "markdown",
      "metadata": {
        "id": "gb-d-3rdkaBC"
      },
      "source": [
        "EDA"
      ]
    },
    {
      "cell_type": "code",
      "execution_count": null,
      "metadata": {
        "vscode": {
          "languageId": "plaintext"
        }
      },
      "outputs": [],
      "source": [
        "import pandas as pd\n",
        "\n",
        "# Load the dataset\n",
        "data = pd.read_csv('car data.csv')\n",
        "\n",
        "# Function to generate test cases based on the dataset\n",
        "def generate_test_cases(data):\n",
        "    test_cases = []\n",
        "\n",
        "    # Test case for dataset loading\n",
        "    test_cases.append(\"Test Case: Ensure that the dataset is loaded without errors.\")\n",
        "\n",
        "    # Test case for checking the number of rows and columns\n",
        "    num_rows, num_cols = data.shape\n",
        "    test_cases.append(f\"Test Case: Verify that the dataset contains {num_rows} rows and {num_cols} columns.\")\n",
        "\n",
        "    # Test case for checking the data types of each column\n",
        "    for column in data.columns:\n",
        "        dtype = data[column].dtype\n",
        "        test_cases.append(f\"Test Case: Check that the column '{column}' is of type '{dtype}'.\")\n",
        "\n",
        "    # Test case for checking missing values\n",
        "    missing_values = data.isnull().sum().sum()\n",
        "    test_cases.append(f\"Test Case: Ensure that there are no missing values in the dataset (found: {missing_values}).\")\n",
        "\n",
        "    # Test case for checking unique values in categorical columns\n",
        "    categorical_columns = ['Fuel_Type', 'Seller_Type', 'Transmission']  # Example categorical columns\n",
        "    for column in categorical_columns:\n",
        "        unique_values = data[column].unique()\n",
        "        test_cases.append(f\"Test Case: Verify that the unique values in '{column}' are {unique_values}.\")\n",
        "\n",
        "    # Test case for checking if the target variable is numeric\n",
        "    target_variable = 'Selling_Price'\n",
        "    if target_variable in data.columns:\n",
        "        test_cases.append(f\"Test Case: Check that the target variable '{target_variable}' is numeric.\")\n",
        "\n",
        "    return test_cases\n",
        "\n",
        "# Generate test cases\n",
        "generated_test_cases = generate_test_cases(data)\n",
        "\n",
        "# Output the generated test cases\n",
        "for i, test_case in enumerate(generated_test_cases, 1):\n",
        "    print(f\"{i}. {test_case}\")\n",
        "\n",
        "print(\"All test cases generated successfully.\")\n"
      ]
    }
  ],
  "metadata": {
    "celltoolbar": "Slideshow",
    "colab": {
      "include_colab_link": true,
      "provenance": []
    },
    "kernelspec": {
      "display_name": "Python 3",
      "language": "python",
      "name": "python3"
    },
    "language_info": {
      "codemirror_mode": {
        "name": "ipython",
        "version": 3
      },
      "file_extension": ".py",
      "mimetype": "text/x-python",
      "name": "python",
      "nbconvert_exporter": "python",
      "pygments_lexer": "ipython3",
      "version": "3.12.3"
    }
  },
  "nbformat": 4,
  "nbformat_minor": 0
}
